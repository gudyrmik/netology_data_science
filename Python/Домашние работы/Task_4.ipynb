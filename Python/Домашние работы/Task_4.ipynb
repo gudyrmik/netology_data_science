{
 "cells": [
  {
   "cell_type": "markdown",
   "metadata": {},
   "source": [
    "**Задание 1\n",
    "Дана переменная, в которой хранится словарь, содержащий гео-метки для каждого пользователя (пример структуры данных приведен ниже). Вам необходимо написать программу, которая выведет на экран множество уникальных гео-меток всех пользователей.**"
   ]
  },
  {
   "cell_type": "code",
   "execution_count": 12,
   "metadata": {},
   "outputs": [
    {
     "name": "stdout",
     "output_type": "stream",
     "text": [
      "{98, 35, 213, 54, 119, 15}\n"
     ]
    }
   ],
   "source": [
    "ids = {'user1': [213, 213, 213, 15, 213],\n",
    "'user2': [54, 54, 119, 119, 119],\n",
    "'user3': [213, 98, 98, 35]}\n",
    "s = set()\n",
    "for id_arr in ids.values():\n",
    "    s |= set(id_arr)\n",
    "print(s)"
   ]
  },
  {
   "cell_type": "markdown",
   "metadata": {},
   "source": [
    "**Задание 2\n",
    "Дана переменная, в которой хранится список поисковых запросов пользователя (пример структуры данных приведен ниже). Вам необходимо написать программу, которая выведет на экран распределение количества слов в запросах в требуемом виде.**"
   ]
  },
  {
   "cell_type": "code",
   "execution_count": 51,
   "metadata": {},
   "outputs": [
    {
     "name": "stdout",
     "output_type": "stream",
     "text": [
      "Words of length 3 has 57.142857142857146%.\n",
      "Words of length 2 has 42.857142857142854%.\n"
     ]
    }
   ],
   "source": [
    "queries = [\n",
    "'смотреть сериалы онлайн',\n",
    "'новости спорта',\n",
    "'афиша кино',\n",
    "'курс доллара',\n",
    "'сериалы этим летом',\n",
    "'курс по питону',\n",
    "'сериалы про спорт',\n",
    "]\n",
    "stat = {}\n",
    "for query in queries:\n",
    "    number_of_words = len(query.split(' '))\n",
    "    if number_of_words not in stat:\n",
    "        stat[number_of_words] = 1\n",
    "    else:\n",
    "        stat[number_of_words] += 1\n",
    "\n",
    "total_queries = len(queries)\n",
    "for length, occurences in stat.items():\n",
    "    print(f'Words of length {length} has { (100 * occurences / total_queries) }%.')"
   ]
  },
  {
   "cell_type": "markdown",
   "metadata": {},
   "source": [
    "**Задание 3\n",
    "Дана переменная, в которой хранится информация о затратах и доходе рекламных кампаний по различным источникам. Необходимо дополнить исходную структуру показателем ROI, который рассчитаем по формуле: (revenue / cost - 1) * 100**"
   ]
  },
  {
   "cell_type": "code",
   "execution_count": 53,
   "metadata": {},
   "outputs": [
    {
     "name": "stdout",
     "output_type": "stream",
     "text": [
      "{'vk': {'revenue': 103, 'cost': 98, 'ROI': 5.102040816326525}, 'yandex': {'revenue': 179, 'cost': 153, 'ROI': 16.99346405228759}, 'facebook': {'revenue': 103, 'cost': 110, 'ROI': -6.36363636363636}, 'adwords': {'revenue': 35, 'cost': 34, 'ROI': 2.941176470588225}, 'twitter': {'revenue': 11, 'cost': 24, 'ROI': -54.16666666666667}}\n"
     ]
    }
   ],
   "source": [
    "results = {\n",
    "'vk': {'revenue': 103, 'cost': 98},\n",
    "'yandex': {'revenue': 179, 'cost': 153},\n",
    "'facebook': {'revenue': 103, 'cost': 110},\n",
    "'adwords': {'revenue': 35, 'cost': 34},\n",
    "'twitter': {'revenue': 11, 'cost': 24},\n",
    "}\n",
    "\n",
    "for company, data in results.items():\n",
    "    data['ROI'] = (data['revenue'] / data['cost'] - 1) * 100\n",
    "print(results)"
   ]
  },
  {
   "cell_type": "markdown",
   "metadata": {},
   "source": [
    "**Задание 4\n",
    "Дана переменная, в которой хранится статистика рекламных каналов по объемам продаж (пример структуры данных приведен ниже). Напишите программу, которая возвращает название канала с максимальным объемом продаж.**"
   ]
  },
  {
   "cell_type": "code",
   "execution_count": 78,
   "metadata": {},
   "outputs": [
    {
     "name": "stdout",
     "output_type": "stream",
     "text": [
      "vk\n"
     ]
    }
   ],
   "source": [
    "stats = {'facebook': 55, 'yandex': 115, 'vk': 120, 'google': 99, 'email': 42, 'ok': 98}\n",
    "inv_stats = {v: k for k, v in stats.items()}\n",
    "print(inv_stats[max(inv_stats.keys())])"
   ]
  },
  {
   "cell_type": "markdown",
   "metadata": {},
   "source": [
    "**Задание 5 (необязательно)\n",
    "Дан список произвольной длины. Необходимо написать код, который на основе исходного списка составит словарь такого уровня вложенности, какова длина исхондого списка.**"
   ]
  },
  {
   "cell_type": "code",
   "execution_count": 105,
   "metadata": {},
   "outputs": [
    {
     "name": "stdout",
     "output_type": "stream",
     "text": [
      "{'2018-01-01': {}}\n",
      "{'yandex': {'2018-01-01': {}}}\n",
      "{'cpc': {'yandex': {'2018-01-01': {}}}}\n",
      "{'100': {'cpc': {'yandex': {'2018-01-01': {}}}}}\n"
     ]
    }
   ],
   "source": [
    "my_list = ['2018-01-01', 'yandex', 'cpc', 100]\n",
    "result_dict = {}\n",
    "\n",
    "for item in my_list:\n",
    "    result_dict = {f'{item}' : result_dict}\n",
    "    print(result_dict)"
   ]
  },
  {
   "cell_type": "markdown",
   "metadata": {},
   "source": [
    "**Задание 6 (необязательно)\n",
    "Дана книга рецептов с информацией о том, сколько ингредиентов нужно для приготовления блюда в расчете на одну порцию (пример данных представлен ниже).\n",
    "Напишите программу, которая будет запрашивать у пользователя количество порций для приготовления этих блюд и отображать информацию о суммарном количестве требуемых ингредиентов в указанном виде.**"
   ]
  },
  {
   "cell_type": "code",
   "execution_count": 123,
   "metadata": {
    "scrolled": true
   },
   "outputs": [
    {
     "name": "stdout",
     "output_type": "stream",
     "text": [
      "Введите количество порций:\n",
      "3\n",
      "{'сыр': 210, 'томаты': 120, 'огурцы': 60, 'маслины': 30, 'оливковое масло': 60, 'салат': 30, 'перец': 60, 'колбаса': 90, 'бекон': 90, 'оливки': 30, 'тесто': 300, 'лимон': 3, 'вода': 600, 'сахар': 30, 'лайм': 60}\n"
     ]
    }
   ],
   "source": [
    "cook_book = {\n",
    "    'салат': [\n",
    "        {'ingridient_name': 'сыр', 'quantity': 50, 'measure': 'гр'},\n",
    "        {'ingridient_name': 'томаты', 'quantity': 20, 'measure': 'гр'},\n",
    "        {'ingridient_name': 'огурцы', 'quantity': 20, 'measure': 'гр'},\n",
    "        {'ingridient_name': 'маслины', 'quantity': 10, 'measure': 'гр'},\n",
    "        {'ingridient_name': 'оливковое масло', 'quantity': 20, 'measure': 'мл'},\n",
    "        {'ingridient_name': 'салат', 'quantity': 10, 'measure': 'гр'},\n",
    "        {'ingridient_name': 'перец', 'quantity': 20, 'measure': 'гр'}\n",
    "    ],\n",
    "    'пицца': [\n",
    "        {'ingridient_name': 'сыр', 'quantity': 20, 'measure': 'гр'},\n",
    "        {'ingridient_name': 'колбаса', 'quantity': 30, 'measure': 'гр'},\n",
    "        {'ingridient_name': 'бекон', 'quantity': 30, 'measure': 'гр'},\n",
    "        {'ingridient_name': 'оливки', 'quantity': 10, 'measure': 'гр'},\n",
    "        {'ingridient_name': 'томаты', 'quantity': 20, 'measure': 'гр'},\n",
    "        {'ingridient_name': 'тесто', 'quantity': 100, 'measure': 'гр'},\n",
    "    ],\n",
    "    'лимонад': [\n",
    "        {'ingridient_name': 'лимон', 'quantity': 1, 'measure': 'шт'},\n",
    "        {'ingridient_name': 'вода', 'quantity': 200, 'measure': 'мл'},\n",
    "        {'ingridient_name': 'сахар', 'quantity': 10, 'measure': 'гр'},\n",
    "        {'ingridient_name': 'лайм', 'quantity': 20, 'measure': 'гр'},\n",
    "    ]\n",
    "}\n",
    "\n",
    "print('Введите количество порций:')\n",
    "portions = int(input())\n",
    "\n",
    "result = {}\n",
    "for receipt in cook_book:\n",
    "    for ingridient in cook_book[receipt]:\n",
    "        name = ingridient['ingridient_name']\n",
    "        quantity = ingridient['quantity']\n",
    "        if name in result:\n",
    "            result[name] += quantity * portions\n",
    "        else:\n",
    "            result[name] = quantity * portions\n",
    "print(result)"
   ]
  }
 ],
 "metadata": {
  "kernelspec": {
   "display_name": "Python 3",
   "language": "python",
   "name": "python3"
  },
  "language_info": {
   "codemirror_mode": {
    "name": "ipython",
    "version": 3
   },
   "file_extension": ".py",
   "mimetype": "text/x-python",
   "name": "python",
   "nbconvert_exporter": "python",
   "pygments_lexer": "ipython3",
   "version": "3.8.5"
  }
 },
 "nbformat": 4,
 "nbformat_minor": 4
}
