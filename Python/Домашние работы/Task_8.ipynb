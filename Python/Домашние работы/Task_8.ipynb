{
 "cells": [
  {
   "cell_type": "markdown",
   "metadata": {},
   "source": [
    "# Задание 1\n",
    "Печатные газеты использовали свой формат дат для каждого выпуска. Для каждой газеты из списка напишите формат указанной даты для перевода в объект datetime:\n",
    "The Moscow Times - Wednesday, October 2, 2002\n",
    "The Guardian - Friday, 11.10.13\n",
    "Daily News - Thursday, 18 August 1977"
   ]
  },
  {
   "cell_type": "code",
   "execution_count": 8,
   "metadata": {},
   "outputs": [],
   "source": [
    "from datetime import datetime\n",
    "from datetime import timedelta"
   ]
  },
  {
   "cell_type": "code",
   "execution_count": 15,
   "metadata": {},
   "outputs": [
    {
     "name": "stdout",
     "output_type": "stream",
     "text": [
      "2002-10-02 00:00:00\n",
      "2013-11-10 00:00:00\n",
      "1977-08-01 00:18:00\n"
     ]
    }
   ],
   "source": [
    "def moscow_times_time(time_string):\n",
    "    time_string = time_string.split(' - ')[1]\n",
    "    return datetime.strptime(time_string, \"%A, %B %d, %Y\")\n",
    "\n",
    "def the_guardian_time(time_string):\n",
    "    time_string = time_string.split(' - ')[1]\n",
    "    return datetime.strptime(time_string, \"%A, %m.%d.%y\")\n",
    "    \n",
    "def daily_news_time(time_string):\n",
    "    time_string = time_string.split(' - ')[1]\n",
    "    return datetime.strptime(time_string, \"%A, %M %B %Y\")\n",
    "\n",
    "print(moscow_times_time('The Moscow Times - Wednesday, October 2, 2002'))\n",
    "print(the_guardian_time('The Guardian - Friday, 11.10.13'))\n",
    "print(daily_news_time('Daily News - Thursday, 18 August 1977'))"
   ]
  },
  {
   "cell_type": "markdown",
   "metadata": {},
   "source": [
    "# Задание 2\n",
    "Дан поток дат в формате YYYY-MM-DD, в которых встречаются некорректные значения:\n",
    "stream = [‘2018-04-02’, ‘2018-02-29’, ‘2018-19-02’]\n",
    "Напишите функцию, которая проверяет эти даты на корректность. Т. е. для каждой даты возвращает True (дата корректна) или False (некорректная дата)."
   ]
  },
  {
   "cell_type": "code",
   "execution_count": 20,
   "metadata": {},
   "outputs": [
    {
     "name": "stdout",
     "output_type": "stream",
     "text": [
      "True\n"
     ]
    }
   ],
   "source": [
    "def correct_date(date_string):\n",
    "    try:\n",
    "        dt_obj = datetime.strptime(date_string, \"%Y-%m-%d\")\n",
    "    except:\n",
    "        return False\n",
    "    return True\n",
    "\n",
    "print(correct_date('2018-04-02'))"
   ]
  },
  {
   "cell_type": "markdown",
   "metadata": {},
   "source": [
    "# Задание 3\n",
    "Напишите функцию date_range, которая возвращает список дат за период от start_date до end_date. Даты должны вводиться в формате YYYY-MM-DD. В случае неверного формата или при start_date > end_date должен возвращаться пустой список."
   ]
  },
  {
   "cell_type": "code",
   "execution_count": 27,
   "metadata": {},
   "outputs": [
    {
     "data": {
      "text/plain": [
       "[]"
      ]
     },
     "execution_count": 27,
     "metadata": {},
     "output_type": "execute_result"
    }
   ],
   "source": [
    "def date_range(start, end):\n",
    "    result = []\n",
    "    format = \"%Y-%m-%d\"\n",
    "    try:\n",
    "        start = datetime.strptime(start, \"%Y-%m-%d\")\n",
    "        end = datetime.strptime(end, \"%Y-%m-%d\")\n",
    "        if start >= end:\n",
    "            raise Exception()\n",
    "    except:\n",
    "        return result\n",
    "    \n",
    "    result = [start]\n",
    "    while start != end:\n",
    "        start = start + timedelta(days = 1)\n",
    "        result.append(start)\n",
    "    return result\n",
    "\n",
    "date_range('2018-04-02', '2018-04-01')"
   ]
  },
  {
   "cell_type": "markdown",
   "metadata": {},
   "source": [
    "# Задание 4 (бонусное)\n",
    "Ваш коллега прислал код функции:\n",
    "\n",
    "DEFAULT_USER_COUNT = 3\n",
    "\n",
    "def delete_and_return_last_user(region, default_list=[‘A100’, ‘A101’, ‘A102’]):\n",
    "\"\"“\n",
    "Удаляет из списка default_list последнего пользователя\n",
    "и возвращает ID нового последнего пользователя.\n",
    "”\"\"\n",
    "element_to_delete = default_list[-1]\n",
    "default_list.remove(element_to_delete)\n",
    "\n",
    "return default_list[DEFAULT_USER_COUNT-2]\n",
    "При однократном вызове этой функции все работает корректно:\n",
    "delete_and_return_last_user(1)\n",
    "‘A101’\n",
    "\n",
    "Однако, при повторном вызове получается ошибка IndexError: list index out of range.\n",
    "\n",
    "Задание:\n",
    "\n",
    "Что значит ошибка list index out of range?\n",
    "Почему при первом запуске функция работает корректно, а при втором - нет?"
   ]
  },
  {
   "cell_type": "markdown",
   "metadata": {},
   "source": [
    "**Что значит ошибка list index out of range?**\n",
    "- Значит обращение к области памяти за пределами адресного пространства данного листа. Вообще учитывая что листы в Питоне внутри устроены как линкед-листы, то это не совсем корректный ответ, но предположу что в интро-курсе... ан нет, вот загуглил прям щас, оказывается листы внутри это динамические массивы, значит мой ответ верен:). Оставлю весь текст как есть - мб ход мысли интересен).\n",
    "\n",
    "**Почему при первом запуске функция работает корректно, а при втором - нет?**\n",
    "- Потому что list.remove удаляет элемент из листа (в нашем случае -1 <=> последний, но это не важно), т.е. укорачивает исходный лист, а строка return default_list[DEFAULT_USER_COUNT-2] возвращает 1й элемент (3-2=1, хотя могу ошибаться). Если размер листа < 2, получим попытку прочитать несуществующий элемент, т.е. index out of range."
   ]
  }
 ],
 "metadata": {
  "kernelspec": {
   "display_name": "Python 3",
   "language": "python",
   "name": "python3"
  },
  "language_info": {
   "codemirror_mode": {
    "name": "ipython",
    "version": 3
   },
   "file_extension": ".py",
   "mimetype": "text/x-python",
   "name": "python",
   "nbconvert_exporter": "python",
   "pygments_lexer": "ipython3",
   "version": "3.8.5"
  }
 },
 "nbformat": 4,
 "nbformat_minor": 4
}
