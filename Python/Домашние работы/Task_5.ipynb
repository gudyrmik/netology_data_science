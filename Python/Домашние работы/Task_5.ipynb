{
 "cells": [
  {
   "cell_type": "code",
   "execution_count": 75,
   "metadata": {},
   "outputs": [],
   "source": [
    "documents = [\n",
    "{'type': 'passport', 'number': '2207 876234', 'name': 'Василий Гупкин'},\n",
    "{'type': 'invoice', 'number': '11-2', 'name': 'Геннадий Покемонов'},\n",
    "{'type': 'insurance', 'number': '10006', 'name': 'Аристарх Павлов'}\n",
    "]\n",
    "\n",
    "directories = {\n",
    "'1': ['2207 876234', '11-2'],\n",
    "'2': ['10006'],\n",
    "'3': []\n",
    "}"
   ]
  },
  {
   "cell_type": "markdown",
   "metadata": {},
   "source": [
    "**Задание 1**"
   ]
  },
  {
   "cell_type": "markdown",
   "metadata": {},
   "source": [
    "Пункт 1. Пользователь по команде “p” может узнать владельца документа по его номеру"
   ]
  },
  {
   "cell_type": "code",
   "execution_count": 8,
   "metadata": {},
   "outputs": [],
   "source": [
    "def GetUserById(id):\n",
    "    for doc in documents:\n",
    "        if doc['number'] == id:\n",
    "            return doc['name']\n",
    "    return None"
   ]
  },
  {
   "cell_type": "markdown",
   "metadata": {},
   "source": [
    "Пункт 2. Пользователь по команде “s” может по номеру документа узнать на какой полке он хранится"
   ]
  },
  {
   "cell_type": "code",
   "execution_count": 9,
   "metadata": {},
   "outputs": [],
   "source": [
    "def GetDirectoryByDocId(id):\n",
    "    for entry in directories:\n",
    "        if id in directories[entry]:\n",
    "            return entry\n",
    "    return None"
   ]
  },
  {
   "cell_type": "markdown",
   "metadata": {},
   "source": [
    "Пункт 3. Пользователь по команде “l” может увидеть полную информацию по всем документам"
   ]
  },
  {
   "cell_type": "code",
   "execution_count": 10,
   "metadata": {},
   "outputs": [],
   "source": [
    "def ListDocs():\n",
    "    str = \"\"\n",
    "    for doc in documents:\n",
    "        str += f\"Document type: {doc['type']}, number: {doc['number']}, name: {doc['name']}, directory: {GetDirectoryByDocId(doc['number'])}\"\n",
    "        str += '\\r\\n'\n",
    "    return str"
   ]
  },
  {
   "cell_type": "markdown",
   "metadata": {},
   "source": [
    "Пункт 4. Пользователь по команде “as” может добавить новую полку\n"
   ]
  },
  {
   "cell_type": "code",
   "execution_count": 11,
   "metadata": {},
   "outputs": [],
   "source": [
    "def AddDirectory(number):\n",
    "    for entry in directories:\n",
    "        if number == int(entry):\n",
    "            return 'Directory already exists'\n",
    "    directories[number] = []\n",
    "    return 'Directory successfully added'"
   ]
  },
  {
   "cell_type": "markdown",
   "metadata": {},
   "source": [
    "Пункт 5. Пользователь по команде “ds” может удалить существующую полку из данных (только если она пустая)"
   ]
  },
  {
   "cell_type": "code",
   "execution_count": 25,
   "metadata": {},
   "outputs": [],
   "source": [
    "def DeleteDirectory(number):\n",
    "    for entry in directories:\n",
    "        if number == int(entry) and not directories[entry]:\n",
    "            del directories[entry]\n",
    "            return 'Directory successfully deleted'\n",
    "    return 'Directory is not empty'"
   ]
  },
  {
   "cell_type": "code",
   "execution_count": 58,
   "metadata": {},
   "outputs": [
    {
     "name": "stdout",
     "output_type": "stream",
     "text": [
      "Enter command:\n",
      "ad\n",
      "Enter document parameters:\n",
      "Enter document type:\n",
      "we\n",
      "Enter document number:\n",
      "ty\n",
      "Enter document owner's name:\n",
      "qwe\n",
      "Document successfully added\n",
      "None\n",
      "Enter command:\n",
      "l\n",
      "Document type: passport, number: 2207 876234, name: Василий Гупкин, directory: 1\n",
      "Document type: invoice, number: 11-2, name: Геннадий Покемонов, directory: 1\n",
      "Document type: insurance, number: 10006, name: Аристарх Павлов, directory: 2\n",
      "Document type: invoice, number: 11-21, name: Геннадий Покемонов, directory: None\n",
      "Document type: ty, number: we, name: qwe, directory: None\n",
      "\n",
      "Enter command:\n",
      "q\n"
     ]
    }
   ],
   "source": [
    "while True:\n",
    "    print('Enter command:')\n",
    "    cmd = input()\n",
    "    if cmd == 'q':\n",
    "        break\n",
    "    elif cmd == 'p':\n",
    "        print('Enter ID:')\n",
    "        print(GetUserById(input()))\n",
    "    elif cmd == 's':\n",
    "        print('Enter ID')\n",
    "        print(GetDirectoryByDocId(input()))\n",
    "    elif cmd == 'l':\n",
    "        print(ListDocs())\n",
    "    elif cmd == 'as':\n",
    "        print('Enter new directory ID:')\n",
    "        print(AddDirectory(int(input())))\n",
    "    elif cmd == 'ds':\n",
    "        print('Enter directory ID to delete:')\n",
    "        print(DeleteDirectory(int(input())))"
   ]
  }
 ],
 "metadata": {
  "kernelspec": {
   "display_name": "Python 3",
   "language": "python",
   "name": "python3"
  },
  "language_info": {
   "codemirror_mode": {
    "name": "ipython",
    "version": 3
   },
   "file_extension": ".py",
   "mimetype": "text/x-python",
   "name": "python",
   "nbconvert_exporter": "python",
   "pygments_lexer": "ipython3",
   "version": "3.8.5"
  }
 },
 "nbformat": 4,
 "nbformat_minor": 4
}
