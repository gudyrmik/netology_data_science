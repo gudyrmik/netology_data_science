{
 "cells": [
  {
   "cell_type": "markdown",
   "metadata": {},
   "source": [
    "**Домашнее задание**\n",
    "\n",
    "**Переведите содержимое файла purchase_log.txt в словарь purchases вида:\n",
    "{‘1840e0b9d4’: ‘Продукты’, …}**\n",
    "\n",
    "**Для каждого user_id в файле visit_log.csv определите третий столбец с категорией покупки (если покупка была, сам файл visit_log.csv изменять не надо). Запишите в файл funnel.csv визиты из файла visit_log.csv, в которых были покупки с указанием категории.\n",
    "Учтите условия на данные:\n",
    "содержимое purchase_log.txt помещается в оперативную память компьютера\n",
    "содержимое visit_log.csv - нет; используйте только построчную обработку этого файла**"
   ]
  },
  {
   "cell_type": "code",
   "execution_count": 29,
   "metadata": {},
   "outputs": [],
   "source": [
    "import json\n",
    "\n",
    "f = open('purchase_log.txt', 'r', encoding = 'utf-8')\n",
    "next(f)\n",
    "\n",
    "purchases_dict = {}\n",
    "\n",
    "for line in f:\n",
    "    d = json.loads(line)\n",
    "    \n",
    "    user_id = d['user_id'].strip()\n",
    "    category = d['category'].strip()\n",
    "    \n",
    "    if user_id not in purchases_dict:\n",
    "        purchases_dict[user_id] = category\n",
    "\n",
    "f.close()\n",
    "\n",
    "f1 = open('visit_log.csv', 'r', encoding = 'utf-8')\n",
    "f2 = open('funnel.csv', 'w', encoding = 'utf-8')\n",
    "f2.write(f\"{f1.readline().strip()},category\\n\")\n",
    "\n",
    "for line in f1:\n",
    "    line = line.split(',')\n",
    "    user_id = line[0].strip()\n",
    "    source = line[1].strip()\n",
    "    \n",
    "    if user_id in purchases_dict:\n",
    "        str = f\"{user_id},{source},{purchases_dict[user_id]}\\n\"\n",
    "        f2.write(str)\n",
    "f1.close()\n",
    "f2.close()"
   ]
  }
 ],
 "metadata": {
  "kernelspec": {
   "display_name": "Python 3",
   "language": "python",
   "name": "python3"
  },
  "language_info": {
   "codemirror_mode": {
    "name": "ipython",
    "version": 3
   },
   "file_extension": ".py",
   "mimetype": "text/x-python",
   "name": "python",
   "nbconvert_exporter": "python",
   "pygments_lexer": "ipython3",
   "version": "3.8.5"
  }
 },
 "nbformat": 4,
 "nbformat_minor": 4
}
